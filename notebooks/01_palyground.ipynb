{
 "cells": [
  {
   "cell_type": "code",
   "execution_count": 2,
   "id": "f5305971-eec4-4c4f-86d2-93928911c931",
   "metadata": {},
   "outputs": [],
   "source": [
    "from jericho import *\n",
    "\n",
    "# Create the environment, optionally specifying a random seed\n",
    "env = FrotzEnv(\"../games/zork1.z5\")\n",
    "initial_observation, info = env.reset()"
   ]
  },
  {
   "cell_type": "code",
   "execution_count": 17,
   "id": "69999c4a",
   "metadata": {},
   "outputs": [
    {
     "name": "stdout",
     "output_type": "stream",
     "text": [
      "Score: 0  Moves: 15\n",
      "Location:  CanyView\n",
      "Canyon View\n",
      "You are at the top of the Great Canyon on its west wall. From here there is a marvelous view of the canyon and parts of the Frigid River upstream. Across the canyon, the walls of the White Cliffs join the mighty ramparts of the Flathead Mountains to the east. Following the Canyon upstream to the north, Aragain Falls may be seen, complete with rainbow. The mighty Frigid River flows out from a great dark cavern. To the west and south can be seen an immense forest, stretching for miles around. A path leads northwest. It is possible to climb down into the canyon from here.\n",
      "\n",
      " 0 False\n"
     ]
    }
   ],
   "source": [
    "# Take an action in the environment using the step fuction.\n",
    "# The resulting text-observation, reward, and game-over indicator is returned.\n",
    "observation, reward, done, info = env.step('east')\n",
    "\n",
    "# Total score and move-count are returned in the info dictionary\n",
    "print('Score:', info['score'], ' Moves:', info['moves'])\n",
    "print('Location: ', env.get_player_location().name)\n",
    "print(observation, reward, done)"
   ]
  },
  {
   "cell_type": "code",
   "execution_count": 16,
   "id": "37d46eef",
   "metadata": {},
   "outputs": [
    {
     "name": "stdout",
     "output_type": "stream",
     "text": [
      "Me: cretin\n",
      "My Inventory: []\n",
      "My Current Location: West House\n",
      "<jericho.jericho.ZObject_Array_251 object at 0x7ff9e1803150>\n"
     ]
    }
   ],
   "source": [
    "print('Me:', env.get_player_object().name)\n",
    "print('My Inventory:', env.get_inventory())\n",
    "print('My Current Location:', env.get_player_location().name)\n",
    "print(env.get_world_objects())"
   ]
  },
  {
   "cell_type": "code",
   "execution_count": null,
   "id": "f07690f0",
   "metadata": {},
   "outputs": [],
   "source": [
    "print('Scored', info['score'], 'out of', env.get_max_score())"
   ]
  }
 ],
 "metadata": {
  "kernelspec": {
   "display_name": ".venv",
   "language": "python",
   "name": "python3"
  },
  "language_info": {
   "codemirror_mode": {
    "name": "ipython",
    "version": 3
   },
   "file_extension": ".py",
   "mimetype": "text/x-python",
   "name": "python",
   "nbconvert_exporter": "python",
   "pygments_lexer": "ipython3",
   "version": "3.13.1"
  }
 },
 "nbformat": 4,
 "nbformat_minor": 5
}
