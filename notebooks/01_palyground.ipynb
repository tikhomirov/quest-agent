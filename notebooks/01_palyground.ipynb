{
 "cells": [
  {
   "cell_type": "code",
   "execution_count": 1,
   "id": "ddb631dd",
   "metadata": {},
   "outputs": [],
   "source": [
    "from langchain.prompts import PromptTemplate"
   ]
  },
  {
   "cell_type": "code",
   "execution_count": 10,
   "id": "b64945f3",
   "metadata": {},
   "outputs": [
    {
     "name": "stdout",
     "output_type": "stream",
     "text": [
      "Your name is Agent.\n",
      "You are an AI agent playing in a text-based adventure game.\n",
      "Your task is to complete objective of the game that you received at the beginning.\n",
      "Each step you receive a feedback for your previous action.\n",
      "In the first step you receive the goal of the game.\n",
      "You interact with the world by giving commands to the game.\n",
      "Commands consist of action (verb) and might have target (some object).\n",
      "You have an inventory that can contain some objects that you pick up during the game.\n",
      "Your output should consist only of commands that you want to send to the game world.\n",
      "Keep your responses concise and focused on the action to take.\n",
      "\n"
     ]
    }
   ],
   "source": [
    "template = PromptTemplate.from_file(\n",
    "    template_file=\"../resources/instructions.mustache\",\n",
    "    template_format=\"mustache\"\n",
    ")\n",
    "\n",
    "print(template.format(name=\"Agent\"))"
   ]
  }
 ],
 "metadata": {
  "kernelspec": {
   "display_name": ".venv",
   "language": "python",
   "name": "python3"
  },
  "language_info": {
   "codemirror_mode": {
    "name": "ipython",
    "version": 3
   },
   "file_extension": ".py",
   "mimetype": "text/x-python",
   "name": "python",
   "nbconvert_exporter": "python",
   "pygments_lexer": "ipython3",
   "version": "3.13.1"
  }
 },
 "nbformat": 4,
 "nbformat_minor": 5
}
